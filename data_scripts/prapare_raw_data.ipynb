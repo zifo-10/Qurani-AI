{
 "cells": [
  {
   "cell_type": "markdown",
   "metadata": {},
   "source": [
    "## Description"
   ]
  },
  {
   "cell_type": "markdown",
   "metadata": {},
   "source": [
    "##### This notebook processes data for `Quran` and `Quran-Tafsir` from different resources to have a complete Quran data file. \n",
    "##### It prepares data, merges them together and apply some preprocessing on final data to be ready to use in `Qurani` Application. "
   ]
  },
  {
   "cell_type": "markdown",
   "metadata": {},
   "source": [
    "## Libraries Used"
   ]
  },
  {
   "cell_type": "code",
   "execution_count": 1,
   "metadata": {},
   "outputs": [],
   "source": [
    "import pandas as pd"
   ]
  },
  {
   "cell_type": "markdown",
   "metadata": {},
   "source": [
    "## Data Preprocessing"
   ]
  },
  {
   "cell_type": "code",
   "execution_count": 2,
   "metadata": {},
   "outputs": [],
   "source": [
    "# Read data\n",
    "quraan_data = pd.read_csv('data/The Quran Dataset.csv')\n",
    "tafsir_data = pd.read_csv('data/mokhtaser_tafseer.csv')"
   ]
  },
  {
   "cell_type": "code",
   "execution_count": 3,
   "metadata": {},
   "outputs": [
    {
     "data": {
      "text/html": [
       "<div>\n",
       "<style scoped>\n",
       "    .dataframe tbody tr th:only-of-type {\n",
       "        vertical-align: middle;\n",
       "    }\n",
       "\n",
       "    .dataframe tbody tr th {\n",
       "        vertical-align: top;\n",
       "    }\n",
       "\n",
       "    .dataframe thead th {\n",
       "        text-align: right;\n",
       "    }\n",
       "</style>\n",
       "<table border=\"1\" class=\"dataframe\">\n",
       "  <thead>\n",
       "    <tr style=\"text-align: right;\">\n",
       "      <th></th>\n",
       "      <th>surah_no</th>\n",
       "      <th>surah_name_en</th>\n",
       "      <th>surah_name_ar</th>\n",
       "      <th>surah_name_roman</th>\n",
       "      <th>ayah_no_surah</th>\n",
       "      <th>ayah_no_quran</th>\n",
       "      <th>ayah_ar</th>\n",
       "      <th>ayah_en</th>\n",
       "      <th>ruko_no</th>\n",
       "      <th>juz_no</th>\n",
       "      <th>...</th>\n",
       "      <th>hizb_quarter</th>\n",
       "      <th>total_ayah_surah</th>\n",
       "      <th>total_ayah_quran</th>\n",
       "      <th>place_of_revelation</th>\n",
       "      <th>sajah_ayah</th>\n",
       "      <th>sajdah_no</th>\n",
       "      <th>no_of_word_ayah</th>\n",
       "      <th>list_of_words</th>\n",
       "      <th>Ayah_without_tashkil</th>\n",
       "      <th>Unnamed: 20</th>\n",
       "    </tr>\n",
       "  </thead>\n",
       "  <tbody>\n",
       "    <tr>\n",
       "      <th>0</th>\n",
       "      <td>1</td>\n",
       "      <td>The Opener</td>\n",
       "      <td>الفاتحة</td>\n",
       "      <td>Al-Fatihah</td>\n",
       "      <td>1</td>\n",
       "      <td>1</td>\n",
       "      <td>بِسْمِ ٱللَّهِ ٱلرَّحْمَٰنِ ٱلرَّحِيمِ</td>\n",
       "      <td>In the Name of Allah—the Most Compassionate, M...</td>\n",
       "      <td>1</td>\n",
       "      <td>1</td>\n",
       "      <td>...</td>\n",
       "      <td>1</td>\n",
       "      <td>7</td>\n",
       "      <td>6236</td>\n",
       "      <td>Meccan</td>\n",
       "      <td>False</td>\n",
       "      <td>NaN</td>\n",
       "      <td>4</td>\n",
       "      <td>[بِسْمِ,ٱللَّهِ,ٱلرَّحْمَٰنِ,ٱلرَّحِيمِ]</td>\n",
       "      <td>بسم الله الرحمن الرحيم</td>\n",
       "      <td>NaN</td>\n",
       "    </tr>\n",
       "    <tr>\n",
       "      <th>1</th>\n",
       "      <td>1</td>\n",
       "      <td>The Opener</td>\n",
       "      <td>الفاتحة</td>\n",
       "      <td>Al-Fatihah</td>\n",
       "      <td>2</td>\n",
       "      <td>2</td>\n",
       "      <td>ٱلْحَمْدُ لِلَّهِ رَبِّ ٱلْعَٰلَمِينَ</td>\n",
       "      <td>All praise is for Allah—Lord of all worlds,</td>\n",
       "      <td>1</td>\n",
       "      <td>1</td>\n",
       "      <td>...</td>\n",
       "      <td>1</td>\n",
       "      <td>7</td>\n",
       "      <td>6236</td>\n",
       "      <td>Meccan</td>\n",
       "      <td>False</td>\n",
       "      <td>NaN</td>\n",
       "      <td>4</td>\n",
       "      <td>[ٱلْحَمْدُ,لِلَّهِ,رَبِّ,ٱلْعَٰلَمِينَ]</td>\n",
       "      <td>الحمد لله رب العالمين</td>\n",
       "      <td>NaN</td>\n",
       "    </tr>\n",
       "    <tr>\n",
       "      <th>2</th>\n",
       "      <td>1</td>\n",
       "      <td>The Opener</td>\n",
       "      <td>الفاتحة</td>\n",
       "      <td>Al-Fatihah</td>\n",
       "      <td>3</td>\n",
       "      <td>3</td>\n",
       "      <td>ٱلرَّحْمَٰنِ ٱلرَّحِيمِ</td>\n",
       "      <td>the Most Compassionate, Most Merciful,</td>\n",
       "      <td>1</td>\n",
       "      <td>1</td>\n",
       "      <td>...</td>\n",
       "      <td>1</td>\n",
       "      <td>7</td>\n",
       "      <td>6236</td>\n",
       "      <td>Meccan</td>\n",
       "      <td>False</td>\n",
       "      <td>NaN</td>\n",
       "      <td>2</td>\n",
       "      <td>[ٱلرَّحْمَٰنِ,ٱلرَّحِيمِ]</td>\n",
       "      <td>الرحمن الرحيم</td>\n",
       "      <td>NaN</td>\n",
       "    </tr>\n",
       "  </tbody>\n",
       "</table>\n",
       "<p>3 rows × 21 columns</p>\n",
       "</div>"
      ],
      "text/plain": [
       "   surah_no surah_name_en surah_name_ar surah_name_roman  ayah_no_surah  \\\n",
       "0         1    The Opener       الفاتحة       Al-Fatihah              1   \n",
       "1         1    The Opener       الفاتحة       Al-Fatihah              2   \n",
       "2         1    The Opener       الفاتحة       Al-Fatihah              3   \n",
       "\n",
       "   ayah_no_quran                                 ayah_ar  \\\n",
       "0              1  بِسْمِ ٱللَّهِ ٱلرَّحْمَٰنِ ٱلرَّحِيمِ   \n",
       "1              2   ٱلْحَمْدُ لِلَّهِ رَبِّ ٱلْعَٰلَمِينَ   \n",
       "2              3                 ٱلرَّحْمَٰنِ ٱلرَّحِيمِ   \n",
       "\n",
       "                                             ayah_en  ruko_no  juz_no  ...  \\\n",
       "0  In the Name of Allah—the Most Compassionate, M...        1       1  ...   \n",
       "1        All praise is for Allah—Lord of all worlds,        1       1  ...   \n",
       "2             the Most Compassionate, Most Merciful,        1       1  ...   \n",
       "\n",
       "   hizb_quarter  total_ayah_surah  total_ayah_quran  place_of_revelation  \\\n",
       "0             1                 7              6236               Meccan   \n",
       "1             1                 7              6236               Meccan   \n",
       "2             1                 7              6236               Meccan   \n",
       "\n",
       "  sajah_ayah  sajdah_no  no_of_word_ayah  \\\n",
       "0      False        NaN                4   \n",
       "1      False        NaN                4   \n",
       "2      False        NaN                2   \n",
       "\n",
       "                              list_of_words    Ayah_without_tashkil  \\\n",
       "0  [بِسْمِ,ٱللَّهِ,ٱلرَّحْمَٰنِ,ٱلرَّحِيمِ]  بسم الله الرحمن الرحيم   \n",
       "1   [ٱلْحَمْدُ,لِلَّهِ,رَبِّ,ٱلْعَٰلَمِينَ]   الحمد لله رب العالمين   \n",
       "2                 [ٱلرَّحْمَٰنِ,ٱلرَّحِيمِ]           الرحمن الرحيم   \n",
       "\n",
       "  Unnamed: 20  \n",
       "0         NaN  \n",
       "1         NaN  \n",
       "2         NaN  \n",
       "\n",
       "[3 rows x 21 columns]"
      ]
     },
     "execution_count": 3,
     "metadata": {},
     "output_type": "execute_result"
    }
   ],
   "source": [
    "quraan_data.head(3)"
   ]
  },
  {
   "cell_type": "code",
   "execution_count": 4,
   "metadata": {},
   "outputs": [
    {
     "data": {
      "text/html": [
       "<div>\n",
       "<style scoped>\n",
       "    .dataframe tbody tr th:only-of-type {\n",
       "        vertical-align: middle;\n",
       "    }\n",
       "\n",
       "    .dataframe tbody tr th {\n",
       "        vertical-align: top;\n",
       "    }\n",
       "\n",
       "    .dataframe thead th {\n",
       "        text-align: right;\n",
       "    }\n",
       "</style>\n",
       "<table border=\"1\" class=\"dataframe\">\n",
       "  <thead>\n",
       "    <tr style=\"text-align: right;\">\n",
       "      <th></th>\n",
       "      <th>Unnamed: 0</th>\n",
       "      <th>id</th>\n",
       "      <th>sura</th>\n",
       "      <th>aya</th>\n",
       "      <th>arabic_text</th>\n",
       "      <th>translation</th>\n",
       "      <th>footnotes</th>\n",
       "    </tr>\n",
       "  </thead>\n",
       "  <tbody>\n",
       "    <tr>\n",
       "      <th>0</th>\n",
       "      <td>0</td>\n",
       "      <td>1</td>\n",
       "      <td>1</td>\n",
       "      <td>1</td>\n",
       "      <td>بِسۡمِ ٱللَّهِ ٱلرَّحۡمَٰنِ ٱلرَّحِيمِ</td>\n",
       "      <td>باسم الله أبدأ قراءة القرآن، مستعينًا به تعالى...</td>\n",
       "      <td>NaN</td>\n",
       "    </tr>\n",
       "    <tr>\n",
       "      <th>1</th>\n",
       "      <td>1</td>\n",
       "      <td>2</td>\n",
       "      <td>1</td>\n",
       "      <td>2</td>\n",
       "      <td>ٱلۡحَمۡدُ لِلَّهِ رَبِّ ٱلۡعَٰلَمِينَ</td>\n",
       "      <td>الثناء الكامل، وجميع أنواع المحامد من صفات الج...</td>\n",
       "      <td>NaN</td>\n",
       "    </tr>\n",
       "    <tr>\n",
       "      <th>2</th>\n",
       "      <td>2</td>\n",
       "      <td>3</td>\n",
       "      <td>1</td>\n",
       "      <td>3</td>\n",
       "      <td>ٱلرَّحۡمَٰنِ ٱلرَّحِيمِ</td>\n",
       "      <td>ثناء على الله تعالى بعد حمده في الآية السابقة.</td>\n",
       "      <td>NaN</td>\n",
       "    </tr>\n",
       "  </tbody>\n",
       "</table>\n",
       "</div>"
      ],
      "text/plain": [
       "   Unnamed: 0  id  sura  aya                             arabic_text  \\\n",
       "0           0   1     1    1  بِسۡمِ ٱللَّهِ ٱلرَّحۡمَٰنِ ٱلرَّحِيمِ   \n",
       "1           1   2     1    2   ٱلۡحَمۡدُ لِلَّهِ رَبِّ ٱلۡعَٰلَمِينَ   \n",
       "2           2   3     1    3                 ٱلرَّحۡمَٰنِ ٱلرَّحِيمِ   \n",
       "\n",
       "                                         translation  footnotes  \n",
       "0  باسم الله أبدأ قراءة القرآن، مستعينًا به تعالى...        NaN  \n",
       "1  الثناء الكامل، وجميع أنواع المحامد من صفات الج...        NaN  \n",
       "2     ثناء على الله تعالى بعد حمده في الآية السابقة.        NaN  "
      ]
     },
     "execution_count": 4,
     "metadata": {},
     "output_type": "execute_result"
    }
   ],
   "source": [
    "tafsir_data.head(3)"
   ]
  },
  {
   "cell_type": "code",
   "execution_count": 5,
   "metadata": {},
   "outputs": [
    {
     "data": {
      "text/html": [
       "<div>\n",
       "<style scoped>\n",
       "    .dataframe tbody tr th:only-of-type {\n",
       "        vertical-align: middle;\n",
       "    }\n",
       "\n",
       "    .dataframe tbody tr th {\n",
       "        vertical-align: top;\n",
       "    }\n",
       "\n",
       "    .dataframe thead th {\n",
       "        text-align: right;\n",
       "    }\n",
       "</style>\n",
       "<table border=\"1\" class=\"dataframe\">\n",
       "  <thead>\n",
       "    <tr style=\"text-align: right;\">\n",
       "      <th></th>\n",
       "      <th>Unnamed: 0</th>\n",
       "      <th>ayah_no_quran</th>\n",
       "      <th>surah_no</th>\n",
       "      <th>ayah_no</th>\n",
       "      <th>ayah_ar</th>\n",
       "      <th>tafsir</th>\n",
       "      <th>footnotes</th>\n",
       "    </tr>\n",
       "  </thead>\n",
       "  <tbody>\n",
       "    <tr>\n",
       "      <th>0</th>\n",
       "      <td>0</td>\n",
       "      <td>1</td>\n",
       "      <td>1</td>\n",
       "      <td>1</td>\n",
       "      <td>بِسۡمِ ٱللَّهِ ٱلرَّحۡمَٰنِ ٱلرَّحِيمِ</td>\n",
       "      <td>باسم الله أبدأ قراءة القرآن، مستعينًا به تعالى...</td>\n",
       "      <td>NaN</td>\n",
       "    </tr>\n",
       "    <tr>\n",
       "      <th>1</th>\n",
       "      <td>1</td>\n",
       "      <td>2</td>\n",
       "      <td>1</td>\n",
       "      <td>2</td>\n",
       "      <td>ٱلۡحَمۡدُ لِلَّهِ رَبِّ ٱلۡعَٰلَمِينَ</td>\n",
       "      <td>الثناء الكامل، وجميع أنواع المحامد من صفات الج...</td>\n",
       "      <td>NaN</td>\n",
       "    </tr>\n",
       "    <tr>\n",
       "      <th>2</th>\n",
       "      <td>2</td>\n",
       "      <td>3</td>\n",
       "      <td>1</td>\n",
       "      <td>3</td>\n",
       "      <td>ٱلرَّحۡمَٰنِ ٱلرَّحِيمِ</td>\n",
       "      <td>ثناء على الله تعالى بعد حمده في الآية السابقة.</td>\n",
       "      <td>NaN</td>\n",
       "    </tr>\n",
       "  </tbody>\n",
       "</table>\n",
       "</div>"
      ],
      "text/plain": [
       "   Unnamed: 0  ayah_no_quran  surah_no  ayah_no  \\\n",
       "0           0              1         1        1   \n",
       "1           1              2         1        2   \n",
       "2           2              3         1        3   \n",
       "\n",
       "                                  ayah_ar  \\\n",
       "0  بِسۡمِ ٱللَّهِ ٱلرَّحۡمَٰنِ ٱلرَّحِيمِ   \n",
       "1   ٱلۡحَمۡدُ لِلَّهِ رَبِّ ٱلۡعَٰلَمِينَ   \n",
       "2                 ٱلرَّحۡمَٰنِ ٱلرَّحِيمِ   \n",
       "\n",
       "                                              tafsir  footnotes  \n",
       "0  باسم الله أبدأ قراءة القرآن، مستعينًا به تعالى...        NaN  \n",
       "1  الثناء الكامل، وجميع أنواع المحامد من صفات الج...        NaN  \n",
       "2     ثناء على الله تعالى بعد حمده في الآية السابقة.        NaN  "
      ]
     },
     "execution_count": 5,
     "metadata": {},
     "output_type": "execute_result"
    }
   ],
   "source": [
    "# Rename tafsir_data columns to more readable name\n",
    "tafsir_data = tafsir_data.rename(columns={'id': 'ayah_no_quran','sura': 'surah_no', 'aya': 'ayah_no', 'arabic_text': 'ayah_ar', 'translation':'tafsir'})\n",
    "tafsir_data.head(3)"
   ]
  },
  {
   "cell_type": "code",
   "execution_count": 6,
   "metadata": {},
   "outputs": [
    {
     "data": {
      "text/html": [
       "<div>\n",
       "<style scoped>\n",
       "    .dataframe tbody tr th:only-of-type {\n",
       "        vertical-align: middle;\n",
       "    }\n",
       "\n",
       "    .dataframe tbody tr th {\n",
       "        vertical-align: top;\n",
       "    }\n",
       "\n",
       "    .dataframe thead th {\n",
       "        text-align: right;\n",
       "    }\n",
       "</style>\n",
       "<table border=\"1\" class=\"dataframe\">\n",
       "  <thead>\n",
       "    <tr style=\"text-align: right;\">\n",
       "      <th></th>\n",
       "      <th>surah_no</th>\n",
       "      <th>surah_name_en</th>\n",
       "      <th>surah_name_ar</th>\n",
       "      <th>surah_name_roman</th>\n",
       "      <th>ayah_no_surah</th>\n",
       "      <th>ayah_no_quran</th>\n",
       "      <th>ayah_ar</th>\n",
       "      <th>ayah_en</th>\n",
       "      <th>ruko_no</th>\n",
       "      <th>juz_no</th>\n",
       "      <th>...</th>\n",
       "      <th>quarter_no</th>\n",
       "      <th>total_ayah_surah</th>\n",
       "      <th>total_ayah_quran</th>\n",
       "      <th>place_of_revelation</th>\n",
       "      <th>has_sajdah</th>\n",
       "      <th>sajdah_no</th>\n",
       "      <th>no_of_word_ayah</th>\n",
       "      <th>list_of_words</th>\n",
       "      <th>Ayah_without_tashkil</th>\n",
       "      <th>Unnamed: 20</th>\n",
       "    </tr>\n",
       "  </thead>\n",
       "  <tbody>\n",
       "    <tr>\n",
       "      <th>0</th>\n",
       "      <td>1</td>\n",
       "      <td>The Opener</td>\n",
       "      <td>الفاتحة</td>\n",
       "      <td>Al-Fatihah</td>\n",
       "      <td>1</td>\n",
       "      <td>1</td>\n",
       "      <td>بِسْمِ ٱللَّهِ ٱلرَّحْمَٰنِ ٱلرَّحِيمِ</td>\n",
       "      <td>In the Name of Allah—the Most Compassionate, M...</td>\n",
       "      <td>1</td>\n",
       "      <td>1</td>\n",
       "      <td>...</td>\n",
       "      <td>1</td>\n",
       "      <td>7</td>\n",
       "      <td>6236</td>\n",
       "      <td>Meccan</td>\n",
       "      <td>False</td>\n",
       "      <td>NaN</td>\n",
       "      <td>4</td>\n",
       "      <td>[بِسْمِ,ٱللَّهِ,ٱلرَّحْمَٰنِ,ٱلرَّحِيمِ]</td>\n",
       "      <td>بسم الله الرحمن الرحيم</td>\n",
       "      <td>NaN</td>\n",
       "    </tr>\n",
       "    <tr>\n",
       "      <th>1</th>\n",
       "      <td>1</td>\n",
       "      <td>The Opener</td>\n",
       "      <td>الفاتحة</td>\n",
       "      <td>Al-Fatihah</td>\n",
       "      <td>2</td>\n",
       "      <td>2</td>\n",
       "      <td>ٱلْحَمْدُ لِلَّهِ رَبِّ ٱلْعَٰلَمِينَ</td>\n",
       "      <td>All praise is for Allah—Lord of all worlds,</td>\n",
       "      <td>1</td>\n",
       "      <td>1</td>\n",
       "      <td>...</td>\n",
       "      <td>1</td>\n",
       "      <td>7</td>\n",
       "      <td>6236</td>\n",
       "      <td>Meccan</td>\n",
       "      <td>False</td>\n",
       "      <td>NaN</td>\n",
       "      <td>4</td>\n",
       "      <td>[ٱلْحَمْدُ,لِلَّهِ,رَبِّ,ٱلْعَٰلَمِينَ]</td>\n",
       "      <td>الحمد لله رب العالمين</td>\n",
       "      <td>NaN</td>\n",
       "    </tr>\n",
       "    <tr>\n",
       "      <th>2</th>\n",
       "      <td>1</td>\n",
       "      <td>The Opener</td>\n",
       "      <td>الفاتحة</td>\n",
       "      <td>Al-Fatihah</td>\n",
       "      <td>3</td>\n",
       "      <td>3</td>\n",
       "      <td>ٱلرَّحْمَٰنِ ٱلرَّحِيمِ</td>\n",
       "      <td>the Most Compassionate, Most Merciful,</td>\n",
       "      <td>1</td>\n",
       "      <td>1</td>\n",
       "      <td>...</td>\n",
       "      <td>1</td>\n",
       "      <td>7</td>\n",
       "      <td>6236</td>\n",
       "      <td>Meccan</td>\n",
       "      <td>False</td>\n",
       "      <td>NaN</td>\n",
       "      <td>2</td>\n",
       "      <td>[ٱلرَّحْمَٰنِ,ٱلرَّحِيمِ]</td>\n",
       "      <td>الرحمن الرحيم</td>\n",
       "      <td>NaN</td>\n",
       "    </tr>\n",
       "  </tbody>\n",
       "</table>\n",
       "<p>3 rows × 21 columns</p>\n",
       "</div>"
      ],
      "text/plain": [
       "   surah_no surah_name_en surah_name_ar surah_name_roman  ayah_no_surah  \\\n",
       "0         1    The Opener       الفاتحة       Al-Fatihah              1   \n",
       "1         1    The Opener       الفاتحة       Al-Fatihah              2   \n",
       "2         1    The Opener       الفاتحة       Al-Fatihah              3   \n",
       "\n",
       "   ayah_no_quran                                 ayah_ar  \\\n",
       "0              1  بِسْمِ ٱللَّهِ ٱلرَّحْمَٰنِ ٱلرَّحِيمِ   \n",
       "1              2   ٱلْحَمْدُ لِلَّهِ رَبِّ ٱلْعَٰلَمِينَ   \n",
       "2              3                 ٱلرَّحْمَٰنِ ٱلرَّحِيمِ   \n",
       "\n",
       "                                             ayah_en  ruko_no  juz_no  ...  \\\n",
       "0  In the Name of Allah—the Most Compassionate, M...        1       1  ...   \n",
       "1        All praise is for Allah—Lord of all worlds,        1       1  ...   \n",
       "2             the Most Compassionate, Most Merciful,        1       1  ...   \n",
       "\n",
       "   quarter_no  total_ayah_surah  total_ayah_quran  place_of_revelation  \\\n",
       "0           1                 7              6236               Meccan   \n",
       "1           1                 7              6236               Meccan   \n",
       "2           1                 7              6236               Meccan   \n",
       "\n",
       "  has_sajdah  sajdah_no  no_of_word_ayah  \\\n",
       "0      False        NaN                4   \n",
       "1      False        NaN                4   \n",
       "2      False        NaN                2   \n",
       "\n",
       "                              list_of_words    Ayah_without_tashkil  \\\n",
       "0  [بِسْمِ,ٱللَّهِ,ٱلرَّحْمَٰنِ,ٱلرَّحِيمِ]  بسم الله الرحمن الرحيم   \n",
       "1   [ٱلْحَمْدُ,لِلَّهِ,رَبِّ,ٱلْعَٰلَمِينَ]   الحمد لله رب العالمين   \n",
       "2                 [ٱلرَّحْمَٰنِ,ٱلرَّحِيمِ]           الرحمن الرحيم   \n",
       "\n",
       "  Unnamed: 20  \n",
       "0         NaN  \n",
       "1         NaN  \n",
       "2         NaN  \n",
       "\n",
       "[3 rows x 21 columns]"
      ]
     },
     "execution_count": 6,
     "metadata": {},
     "output_type": "execute_result"
    }
   ],
   "source": [
    "# Rename quraan_data columns to more readable name\n",
    "quraan_data = quraan_data.rename(columns={'hizb_quarter': 'quarter_no','sajah_ayah': 'has_sajdah'})\n",
    "quraan_data.head(3)"
   ]
  },
  {
   "cell_type": "code",
   "execution_count": 7,
   "metadata": {},
   "outputs": [],
   "source": [
    "# Choose need fields from each files\n",
    "tafsir_data = tafsir_data[['ayah_no_quran', 'tafsir']]\n",
    "quraan_data = quraan_data[[\n",
    "                'surah_no', 'surah_name_ar', 'surah_name_roman', 'ayah_no_surah', 'ayah_no_quran', 'ayah_ar', 'ayah_en','Ayah_without_tashkil', 'juz_no', 'quarter_no', 'total_ayah_surah', 'total_ayah_quran', 'place_of_revelation', 'has_sajdah', 'sajdah_no']]"
   ]
  },
  {
   "cell_type": "code",
   "execution_count": 8,
   "metadata": {},
   "outputs": [
    {
     "name": "stdout",
     "output_type": "stream",
     "text": [
      "1 6236\n",
      "1 6236\n"
     ]
    }
   ],
   "source": [
    "# Ensure `ayah_no_quran` filed` in 2 data files is the same\n",
    "print(min(tafsir_data['ayah_no_quran']), max(tafsir_data['ayah_no_quran']))\n",
    "print(min(quraan_data['ayah_no_quran']), max(quraan_data['ayah_no_quran']))"
   ]
  },
  {
   "cell_type": "code",
   "execution_count": 9,
   "metadata": {},
   "outputs": [
    {
     "data": {
      "text/html": [
       "<div>\n",
       "<style scoped>\n",
       "    .dataframe tbody tr th:only-of-type {\n",
       "        vertical-align: middle;\n",
       "    }\n",
       "\n",
       "    .dataframe tbody tr th {\n",
       "        vertical-align: top;\n",
       "    }\n",
       "\n",
       "    .dataframe thead th {\n",
       "        text-align: right;\n",
       "    }\n",
       "</style>\n",
       "<table border=\"1\" class=\"dataframe\">\n",
       "  <thead>\n",
       "    <tr style=\"text-align: right;\">\n",
       "      <th></th>\n",
       "      <th>ayah_no_quran</th>\n",
       "      <th>tafsir</th>\n",
       "      <th>surah_no</th>\n",
       "      <th>surah_name_ar</th>\n",
       "      <th>surah_name_roman</th>\n",
       "      <th>ayah_no_surah</th>\n",
       "      <th>ayah_ar</th>\n",
       "      <th>ayah_en</th>\n",
       "      <th>Ayah_without_tashkil</th>\n",
       "      <th>juz_no</th>\n",
       "      <th>quarter_no</th>\n",
       "      <th>total_ayah_surah</th>\n",
       "      <th>total_ayah_quran</th>\n",
       "      <th>place_of_revelation</th>\n",
       "      <th>has_sajdah</th>\n",
       "      <th>sajdah_no</th>\n",
       "    </tr>\n",
       "  </thead>\n",
       "  <tbody>\n",
       "    <tr>\n",
       "      <th>0</th>\n",
       "      <td>1</td>\n",
       "      <td>باسم الله أبدأ قراءة القرآن، مستعينًا به تعالى...</td>\n",
       "      <td>1</td>\n",
       "      <td>الفاتحة</td>\n",
       "      <td>Al-Fatihah</td>\n",
       "      <td>1</td>\n",
       "      <td>بِسْمِ ٱللَّهِ ٱلرَّحْمَٰنِ ٱلرَّحِيمِ</td>\n",
       "      <td>In the Name of Allah—the Most Compassionate, M...</td>\n",
       "      <td>بسم الله الرحمن الرحيم</td>\n",
       "      <td>1</td>\n",
       "      <td>1</td>\n",
       "      <td>7</td>\n",
       "      <td>6236</td>\n",
       "      <td>Meccan</td>\n",
       "      <td>False</td>\n",
       "      <td>NaN</td>\n",
       "    </tr>\n",
       "    <tr>\n",
       "      <th>1</th>\n",
       "      <td>2</td>\n",
       "      <td>الثناء الكامل، وجميع أنواع المحامد من صفات الج...</td>\n",
       "      <td>1</td>\n",
       "      <td>الفاتحة</td>\n",
       "      <td>Al-Fatihah</td>\n",
       "      <td>2</td>\n",
       "      <td>ٱلْحَمْدُ لِلَّهِ رَبِّ ٱلْعَٰلَمِينَ</td>\n",
       "      <td>All praise is for Allah—Lord of all worlds,</td>\n",
       "      <td>الحمد لله رب العالمين</td>\n",
       "      <td>1</td>\n",
       "      <td>1</td>\n",
       "      <td>7</td>\n",
       "      <td>6236</td>\n",
       "      <td>Meccan</td>\n",
       "      <td>False</td>\n",
       "      <td>NaN</td>\n",
       "    </tr>\n",
       "    <tr>\n",
       "      <th>2</th>\n",
       "      <td>3</td>\n",
       "      <td>ثناء على الله تعالى بعد حمده في الآية السابقة.</td>\n",
       "      <td>1</td>\n",
       "      <td>الفاتحة</td>\n",
       "      <td>Al-Fatihah</td>\n",
       "      <td>3</td>\n",
       "      <td>ٱلرَّحْمَٰنِ ٱلرَّحِيمِ</td>\n",
       "      <td>the Most Compassionate, Most Merciful,</td>\n",
       "      <td>الرحمن الرحيم</td>\n",
       "      <td>1</td>\n",
       "      <td>1</td>\n",
       "      <td>7</td>\n",
       "      <td>6236</td>\n",
       "      <td>Meccan</td>\n",
       "      <td>False</td>\n",
       "      <td>NaN</td>\n",
       "    </tr>\n",
       "  </tbody>\n",
       "</table>\n",
       "</div>"
      ],
      "text/plain": [
       "   ayah_no_quran                                             tafsir  surah_no  \\\n",
       "0              1  باسم الله أبدأ قراءة القرآن، مستعينًا به تعالى...         1   \n",
       "1              2  الثناء الكامل، وجميع أنواع المحامد من صفات الج...         1   \n",
       "2              3     ثناء على الله تعالى بعد حمده في الآية السابقة.         1   \n",
       "\n",
       "  surah_name_ar surah_name_roman  ayah_no_surah  \\\n",
       "0       الفاتحة       Al-Fatihah              1   \n",
       "1       الفاتحة       Al-Fatihah              2   \n",
       "2       الفاتحة       Al-Fatihah              3   \n",
       "\n",
       "                                  ayah_ar  \\\n",
       "0  بِسْمِ ٱللَّهِ ٱلرَّحْمَٰنِ ٱلرَّحِيمِ   \n",
       "1   ٱلْحَمْدُ لِلَّهِ رَبِّ ٱلْعَٰلَمِينَ   \n",
       "2                 ٱلرَّحْمَٰنِ ٱلرَّحِيمِ   \n",
       "\n",
       "                                             ayah_en    Ayah_without_tashkil  \\\n",
       "0  In the Name of Allah—the Most Compassionate, M...  بسم الله الرحمن الرحيم   \n",
       "1        All praise is for Allah—Lord of all worlds,   الحمد لله رب العالمين   \n",
       "2             the Most Compassionate, Most Merciful,           الرحمن الرحيم   \n",
       "\n",
       "   juz_no  quarter_no  total_ayah_surah  total_ayah_quran place_of_revelation  \\\n",
       "0       1           1                 7              6236              Meccan   \n",
       "1       1           1                 7              6236              Meccan   \n",
       "2       1           1                 7              6236              Meccan   \n",
       "\n",
       "   has_sajdah  sajdah_no  \n",
       "0       False        NaN  \n",
       "1       False        NaN  \n",
       "2       False        NaN  "
      ]
     },
     "execution_count": 9,
     "metadata": {},
     "output_type": "execute_result"
    }
   ],
   "source": [
    "# Merge two data files on `ayah_no_quran` filed\n",
    "merged_data = pd.merge(\n",
    "                tafsir_data, quraan_data, left_on='ayah_no_quran', right_on='ayah_no_quran', how='inner')\n",
    "merged_data.head(3)"
   ]
  },
  {
   "cell_type": "code",
   "execution_count": 10,
   "metadata": {},
   "outputs": [
    {
     "data": {
      "text/plain": [
       "place_of_revelation\n",
       "Meccan     4613\n",
       "Medinan    1623\n",
       "Name: count, dtype: int64"
      ]
     },
     "execution_count": 10,
     "metadata": {},
     "output_type": "execute_result"
    }
   ],
   "source": [
    "merged_data['place_of_revelation'].value_counts()"
   ]
  },
  {
   "cell_type": "code",
   "execution_count": 11,
   "metadata": {},
   "outputs": [],
   "source": [
    "# Add  `is_Meccan` column (boolean column)\n",
    "merged_data['is_meccan'] = (merged_data['place_of_revelation'] == 'Meccan')"
   ]
  },
  {
   "cell_type": "code",
   "execution_count": 13,
   "metadata": {},
   "outputs": [
    {
     "data": {
      "text/plain": [
       "is_meccan\n",
       "True     4613\n",
       "False    1623\n",
       "Name: count, dtype: int64"
      ]
     },
     "execution_count": 13,
     "metadata": {},
     "output_type": "execute_result"
    }
   ],
   "source": [
    "merged_data['is_meccan'].value_counts()"
   ]
  },
  {
   "cell_type": "code",
   "execution_count": 16,
   "metadata": {},
   "outputs": [
    {
     "data": {
      "text/plain": [
       "np.int64(6221)"
      ]
     },
     "execution_count": 16,
     "metadata": {},
     "output_type": "execute_result"
    }
   ],
   "source": [
    "# fill non-value in `sajdah_no` with 0\n",
    "merged_data['sajdah_no'].isnull().sum()"
   ]
  },
  {
   "cell_type": "code",
   "execution_count": 14,
   "metadata": {},
   "outputs": [
    {
     "data": {
      "text/plain": [
       "sajdah_no\n",
       "1.0     1\n",
       "2.0     1\n",
       "3.0     1\n",
       "4.0     1\n",
       "5.0     1\n",
       "6.0     1\n",
       "7.0     1\n",
       "8.0     1\n",
       "9.0     1\n",
       "10.0    1\n",
       "11.0    1\n",
       "12.0    1\n",
       "13.0    1\n",
       "14.0    1\n",
       "15.0    1\n",
       "Name: count, dtype: int64"
      ]
     },
     "execution_count": 14,
     "metadata": {},
     "output_type": "execute_result"
    }
   ],
   "source": [
    "merged_data['sajdah_no'].value_counts()"
   ]
  },
  {
   "cell_type": "code",
   "execution_count": 15,
   "metadata": {},
   "outputs": [],
   "source": [
    "merged_data['sajdah_no'] = merged_data['sajdah_no'].fillna(0).astype(int)"
   ]
  },
  {
   "cell_type": "code",
   "execution_count": 16,
   "metadata": {},
   "outputs": [
    {
     "data": {
      "text/plain": [
       "sajdah_no\n",
       "0     6221\n",
       "1        1\n",
       "2        1\n",
       "3        1\n",
       "4        1\n",
       "5        1\n",
       "6        1\n",
       "7        1\n",
       "8        1\n",
       "9        1\n",
       "10       1\n",
       "11       1\n",
       "12       1\n",
       "13       1\n",
       "14       1\n",
       "15       1\n",
       "Name: count, dtype: int64"
      ]
     },
     "execution_count": 16,
     "metadata": {},
     "output_type": "execute_result"
    }
   ],
   "source": [
    "merged_data['sajdah_no'].value_counts()"
   ]
  },
  {
   "cell_type": "code",
   "execution_count": 17,
   "metadata": {},
   "outputs": [
    {
     "data": {
      "text/plain": [
       "total_ayah_quran\n",
       "6236    6236\n",
       "Name: count, dtype: int64"
      ]
     },
     "execution_count": 17,
     "metadata": {},
     "output_type": "execute_result"
    }
   ],
   "source": [
    "# Ensure `total_ayah_quran` column ia all true\n",
    "merged_data['total_ayah_quran'].value_counts()"
   ]
  },
  {
   "cell_type": "code",
   "execution_count": 18,
   "metadata": {},
   "outputs": [
    {
     "name": "stdout",
     "output_type": "stream",
     "text": [
      "0        1\n",
      "1        1\n",
      "2        1\n",
      "3        1\n",
      "4        1\n",
      "        ..\n",
      "6231    30\n",
      "6232    30\n",
      "6233    30\n",
      "6234    30\n",
      "6235    30\n",
      "Name: juz_no, Length: 6236, dtype: int64\n"
     ]
    }
   ],
   "source": [
    "# Ensure `juz_no` values from 1 to 30\n",
    "filtered_juz_no = merged_data['juz_no'][(merged_data['juz_no'] > 0) & (merged_data['juz_no'] <= 30)]\n",
    "print(filtered_juz_no)"
   ]
  },
  {
   "cell_type": "code",
   "execution_count": 19,
   "metadata": {},
   "outputs": [
    {
     "name": "stdout",
     "output_type": "stream",
     "text": [
      "0         1\n",
      "1         1\n",
      "2         1\n",
      "3         1\n",
      "4         1\n",
      "       ... \n",
      "6231    240\n",
      "6232    240\n",
      "6233    240\n",
      "6234    240\n",
      "6235    240\n",
      "Name: quarter_no, Length: 6236, dtype: int64\n"
     ]
    }
   ],
   "source": [
    "# Ensure `quarter_no` values from 1 to 240\n",
    "filtered_quarter_no = merged_data['quarter_no'][(merged_data['quarter_no'] > 0) & (merged_data['quarter_no'] <= 240)]\n",
    "print(filtered_quarter_no)"
   ]
  },
  {
   "cell_type": "code",
   "execution_count": 21,
   "metadata": {},
   "outputs": [
    {
     "name": "stdout",
     "output_type": "stream",
     "text": [
      "<class 'pandas.core.frame.DataFrame'>\n",
      "RangeIndex: 6236 entries, 0 to 6235\n",
      "Data columns (total 17 columns):\n",
      " #   Column                Non-Null Count  Dtype \n",
      "---  ------                --------------  ----- \n",
      " 0   ayah_no_quran         6236 non-null   int64 \n",
      " 1   tafsir                6236 non-null   object\n",
      " 2   surah_no              6236 non-null   int64 \n",
      " 3   surah_name_ar         6236 non-null   object\n",
      " 4   surah_name_roman      6236 non-null   object\n",
      " 5   ayah_no_surah         6236 non-null   int64 \n",
      " 6   ayah_ar               6236 non-null   object\n",
      " 7   ayah_en               6236 non-null   object\n",
      " 8   Ayah_without_tashkil  6236 non-null   object\n",
      " 9   juz_no                6236 non-null   int64 \n",
      " 10  quarter_no            6236 non-null   int64 \n",
      " 11  total_ayah_surah      6236 non-null   int64 \n",
      " 12  total_ayah_quran      6236 non-null   int64 \n",
      " 13  place_of_revelation   6236 non-null   object\n",
      " 14  has_sajdah            6236 non-null   bool  \n",
      " 15  sajdah_no             6236 non-null   int64 \n",
      " 16  is_meccan             6236 non-null   bool  \n",
      "dtypes: bool(2), int64(8), object(7)\n",
      "memory usage: 743.1+ KB\n"
     ]
    }
   ],
   "source": [
    "merged_data.info()"
   ]
  },
  {
   "cell_type": "markdown",
   "metadata": {},
   "source": [
    "## Save Preprocessed data"
   ]
  },
  {
   "cell_type": "code",
   "execution_count": 22,
   "metadata": {},
   "outputs": [],
   "source": [
    "merged_data.to_csv('data/processed_data.csv')"
   ]
  },
  {
   "cell_type": "code",
   "execution_count": null,
   "metadata": {},
   "outputs": [],
   "source": []
  }
 ],
 "metadata": {
  "kernelspec": {
   "display_name": ".venv",
   "language": "python",
   "name": "python3"
  },
  "language_info": {
   "codemirror_mode": {
    "name": "ipython",
    "version": 3
   },
   "file_extension": ".py",
   "mimetype": "text/x-python",
   "name": "python",
   "nbconvert_exporter": "python",
   "pygments_lexer": "ipython3",
   "version": "3.10.12"
  }
 },
 "nbformat": 4,
 "nbformat_minor": 2
}
